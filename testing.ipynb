{
 "cells": [
  {
   "cell_type": "code",
   "execution_count": 15,
   "metadata": {},
   "outputs": [
    {
     "name": "stdout",
     "output_type": "stream",
     "text": [
      "None\n"
     ]
    }
   ],
   "source": [
    "import gi\n",
    "\n",
    "gi.require_version('Gtk', '4.0')\n",
    "gi.require_version('Adw', '1')\n",
    "\n",
    "from gi.repository import Gtk, Adw\n",
    "\n",
    "group = Adw.PreferencesGroup(title='Hello')\n",
    "group.add(Adw.ActionRow(title='Hi'))\n",
    "\n",
    "print(group\n",
    "    .get_first_child() # Main GtkBox\n",
    "    .get_last_child()  # GtkBox containing the listbox\n",
    "    .get_first_child() # GtkListBox\n",
    "    .get_row_at_index(1)) # First row of the listbox"
   ]
  },
  {
   "cell_type": "code",
   "execution_count": 9,
   "metadata": {},
   "outputs": [
    {
     "name": "stdout",
     "output_type": "stream",
     "text": [
      "False\n"
     ]
    }
   ],
   "source": [
    "from configparser import ConfigParser, NoOptionError, NoSectionError\n",
    "\n",
    "APP_SECTION = 'Desktop Entry'\n",
    "\n",
    "f = ConfigParser(interpolation=None)\n",
    "f.read_string(\n",
    "'''\n",
    "[Desktop Entry]\n",
    "Name = Application\n",
    "Comment = Hello\n",
    "NoDisplay = false\n",
    "Number = afsf\n",
    "'''\n",
    ")\n",
    "\n",
    "def bool_values(f: ConfigParser):\n",
    "    for k in f[APP_SECTION].keys():\n",
    "        try:\n",
    "            v = f.getfloat(APP_SECTION, k)\n",
    "        except (ValueError):\n",
    "            continue\n",
    "        else:\n",
    "            yield k, v\n",
    "\n",
    "def string_values(f) -> dict:\n",
    "    return dict(f[APP_SECTION]).items() - dict(bool_values(f)).items() - dict(bool_values(f)).items()\n",
    "\n",
    "print(bool(f.getboolean(APP_SECTION, 'nodisplay')))"
   ]
  }
 ],
 "metadata": {
  "kernelspec": {
   "display_name": "Python 3.9.13 64-bit",
   "language": "python",
   "name": "python3"
  },
  "language_info": {
   "codemirror_mode": {
    "name": "ipython",
    "version": 3
   },
   "file_extension": ".py",
   "mimetype": "text/x-python",
   "name": "python",
   "nbconvert_exporter": "python",
   "pygments_lexer": "ipython3",
   "version": "3.9.13"
  },
  "orig_nbformat": 4,
  "vscode": {
   "interpreter": {
    "hash": "36cf16204b8548560b1c020c4e8fb5b57f0e4c58016f52f2d4be01e192833930"
   }
  }
 },
 "nbformat": 4,
 "nbformat_minor": 2
}
